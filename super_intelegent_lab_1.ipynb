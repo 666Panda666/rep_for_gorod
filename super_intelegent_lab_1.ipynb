{
 "cells": [
  {
   "cell_type": "code",
   "execution_count": 2,
   "metadata": {},
   "outputs": [],
   "source": [
    "import pandas as pd\n",
    "import numpy as np\n",
    "import matplotlib.pyplot as plt\n",
    "import seaborn as sns"
   ]
  },
  {
   "cell_type": "code",
   "execution_count": 3,
   "metadata": {},
   "outputs": [],
   "source": [
    "dt = pd.read_csv('train.csv')"
   ]
  },
  {
   "cell_type": "markdown",
   "metadata": {},
   "source": [
    "Вообще говоря, данные надо предобработать, заменить null или NaN на что-то правильное.\n",
    "Но в задании задании это можно опустить, т.к. встроенные вычислительные функции могут игнорировать такие значение.\n",
    "\n",
    "Стоит учесть в \"промышленном\" применении так делать не стоит."
   ]
  },
  {
   "cell_type": "code",
   "execution_count": 6,
   "metadata": {},
   "outputs": [
    {
     "data": {
      "text/html": [
       "<div>\n",
       "<style scoped>\n",
       "    .dataframe tbody tr th:only-of-type {\n",
       "        vertical-align: middle;\n",
       "    }\n",
       "\n",
       "    .dataframe tbody tr th {\n",
       "        vertical-align: top;\n",
       "    }\n",
       "\n",
       "    .dataframe thead th {\n",
       "        text-align: right;\n",
       "    }\n",
       "</style>\n",
       "<table border=\"1\" class=\"dataframe\">\n",
       "  <thead>\n",
       "    <tr style=\"text-align: right;\">\n",
       "      <th></th>\n",
       "      <th>PassengerId</th>\n",
       "      <th>Survived</th>\n",
       "      <th>Pclass</th>\n",
       "      <th>Name</th>\n",
       "      <th>Sex</th>\n",
       "      <th>Age</th>\n",
       "      <th>SibSp</th>\n",
       "      <th>Parch</th>\n",
       "      <th>Ticket</th>\n",
       "      <th>Fare</th>\n",
       "      <th>Cabin</th>\n",
       "      <th>Embarked</th>\n",
       "    </tr>\n",
       "  </thead>\n",
       "  <tbody>\n",
       "    <tr>\n",
       "      <th>0</th>\n",
       "      <td>1</td>\n",
       "      <td>0</td>\n",
       "      <td>3</td>\n",
       "      <td>Braund, Mr. Owen Harris</td>\n",
       "      <td>male</td>\n",
       "      <td>22.0</td>\n",
       "      <td>1</td>\n",
       "      <td>0</td>\n",
       "      <td>A/5 21171</td>\n",
       "      <td>7.2500</td>\n",
       "      <td>NaN</td>\n",
       "      <td>S</td>\n",
       "    </tr>\n",
       "    <tr>\n",
       "      <th>1</th>\n",
       "      <td>2</td>\n",
       "      <td>1</td>\n",
       "      <td>1</td>\n",
       "      <td>Cumings, Mrs. John Bradley (Florence Briggs Th...</td>\n",
       "      <td>female</td>\n",
       "      <td>38.0</td>\n",
       "      <td>1</td>\n",
       "      <td>0</td>\n",
       "      <td>PC 17599</td>\n",
       "      <td>71.2833</td>\n",
       "      <td>C85</td>\n",
       "      <td>C</td>\n",
       "    </tr>\n",
       "    <tr>\n",
       "      <th>2</th>\n",
       "      <td>3</td>\n",
       "      <td>1</td>\n",
       "      <td>3</td>\n",
       "      <td>Heikkinen, Miss. Laina</td>\n",
       "      <td>female</td>\n",
       "      <td>26.0</td>\n",
       "      <td>0</td>\n",
       "      <td>0</td>\n",
       "      <td>STON/O2. 3101282</td>\n",
       "      <td>7.9250</td>\n",
       "      <td>NaN</td>\n",
       "      <td>S</td>\n",
       "    </tr>\n",
       "    <tr>\n",
       "      <th>3</th>\n",
       "      <td>4</td>\n",
       "      <td>1</td>\n",
       "      <td>1</td>\n",
       "      <td>Futrelle, Mrs. Jacques Heath (Lily May Peel)</td>\n",
       "      <td>female</td>\n",
       "      <td>35.0</td>\n",
       "      <td>1</td>\n",
       "      <td>0</td>\n",
       "      <td>113803</td>\n",
       "      <td>53.1000</td>\n",
       "      <td>C123</td>\n",
       "      <td>S</td>\n",
       "    </tr>\n",
       "    <tr>\n",
       "      <th>4</th>\n",
       "      <td>5</td>\n",
       "      <td>0</td>\n",
       "      <td>3</td>\n",
       "      <td>Allen, Mr. William Henry</td>\n",
       "      <td>male</td>\n",
       "      <td>35.0</td>\n",
       "      <td>0</td>\n",
       "      <td>0</td>\n",
       "      <td>373450</td>\n",
       "      <td>8.0500</td>\n",
       "      <td>NaN</td>\n",
       "      <td>S</td>\n",
       "    </tr>\n",
       "  </tbody>\n",
       "</table>\n",
       "</div>"
      ],
      "text/plain": [
       "   PassengerId  Survived  Pclass  \\\n",
       "0            1         0       3   \n",
       "1            2         1       1   \n",
       "2            3         1       3   \n",
       "3            4         1       1   \n",
       "4            5         0       3   \n",
       "\n",
       "                                                Name     Sex   Age  SibSp  \\\n",
       "0                            Braund, Mr. Owen Harris    male  22.0      1   \n",
       "1  Cumings, Mrs. John Bradley (Florence Briggs Th...  female  38.0      1   \n",
       "2                             Heikkinen, Miss. Laina  female  26.0      0   \n",
       "3       Futrelle, Mrs. Jacques Heath (Lily May Peel)  female  35.0      1   \n",
       "4                           Allen, Mr. William Henry    male  35.0      0   \n",
       "\n",
       "   Parch            Ticket     Fare Cabin Embarked  \n",
       "0      0         A/5 21171   7.2500   NaN        S  \n",
       "1      0          PC 17599  71.2833   C85        C  \n",
       "2      0  STON/O2. 3101282   7.9250   NaN        S  \n",
       "3      0            113803  53.1000  C123        S  \n",
       "4      0            373450   8.0500   NaN        S  "
      ]
     },
     "execution_count": 6,
     "metadata": {},
     "output_type": "execute_result"
    }
   ],
   "source": [
    "dt.head()"
   ]
  },
  {
   "cell_type": "code",
   "execution_count": 8,
   "metadata": {},
   "outputs": [
    {
     "name": "stdout",
     "output_type": "stream",
     "text": [
      "<class 'pandas.core.frame.DataFrame'>\n",
      "RangeIndex: 891 entries, 0 to 890\n",
      "Data columns (total 12 columns):\n",
      "PassengerId    891 non-null int64\n",
      "Survived       891 non-null int64\n",
      "Pclass         891 non-null int64\n",
      "Name           891 non-null object\n",
      "Sex            891 non-null object\n",
      "Age            714 non-null float64\n",
      "SibSp          891 non-null int64\n",
      "Parch          891 non-null int64\n",
      "Ticket         891 non-null object\n",
      "Fare           891 non-null float64\n",
      "Cabin          204 non-null object\n",
      "Embarked       889 non-null object\n",
      "dtypes: float64(2), int64(5), object(5)\n",
      "memory usage: 83.6+ KB\n"
     ]
    }
   ],
   "source": [
    "dt.info()"
   ]
  },
  {
   "cell_type": "markdown",
   "metadata": {},
   "source": [
    "## Матрица корреляций"
   ]
  },
  {
   "cell_type": "markdown",
   "metadata": {},
   "source": [
    "Вообще, по-хорошему надо ещё учитывать, что корреляция может быть стат значимой и незначимой.\n",
    "И просто смотреть на матрицу корреляций не очень правильно.\n",
    "Плюс, есть матрица частных коэффициентов корреляции и ещё корреляции Спирмена для ординальных переменных. \n",
    "\n",
    "Но это все тонкости и детали. Другой вопрос в том, для каких переменных проверять корреляцию.\n",
    "\n",
    "Есть 7 числовых переменных: \n",
    "1. PassengerId - Id пассажира, \n",
    "2. Survived - метка выжил или нет, \n",
    "3. Pclass - класс пассажира, 1 - высший, 3 - низший),\n",
    "4. Age - возраст для всех, кто старше одного года - кол-во полных лет, для остальных - дробь\n",
    "5. SibSp - кол-во братьев, сестер(сводных и родных) и супругов на борту\n",
    "6. Parch - кол-во родителей и детей на борту\n",
    "7. Fare - плата за проезд\n",
    "\n",
    "Из описания сразу видно, что PassengerId и Survived имеет смысл откинуть, потому что id нет смысла анализировать, а для анализа связи с меткой необходимо воспользоваться другими методами или вообще просто классификацию делать.\n",
    "Для Pclass подойдет коэффициент корреляции Спирмена, потому что значения можно упорядочить 1>2>3, но в задаче требудется только коэффициент корреляции Пирсона, так что откинем.\n",
    "\n",
    "Для остальных уже имеет смысл строить матрицу корреляций"
   ]
  },
  {
   "cell_type": "code",
   "execution_count": 39,
   "metadata": {},
   "outputs": [
    {
     "data": {
      "text/html": [
       "<div>\n",
       "<style scoped>\n",
       "    .dataframe tbody tr th:only-of-type {\n",
       "        vertical-align: middle;\n",
       "    }\n",
       "\n",
       "    .dataframe tbody tr th {\n",
       "        vertical-align: top;\n",
       "    }\n",
       "\n",
       "    .dataframe thead th {\n",
       "        text-align: right;\n",
       "    }\n",
       "</style>\n",
       "<table border=\"1\" class=\"dataframe\">\n",
       "  <thead>\n",
       "    <tr style=\"text-align: right;\">\n",
       "      <th></th>\n",
       "      <th>Age</th>\n",
       "      <th>SibSp</th>\n",
       "      <th>Parch</th>\n",
       "      <th>Fare</th>\n",
       "    </tr>\n",
       "  </thead>\n",
       "  <tbody>\n",
       "    <tr>\n",
       "      <th>Age</th>\n",
       "      <td>1.000000</td>\n",
       "      <td>-0.308247</td>\n",
       "      <td>-0.189119</td>\n",
       "      <td>0.096067</td>\n",
       "    </tr>\n",
       "    <tr>\n",
       "      <th>SibSp</th>\n",
       "      <td>-0.308247</td>\n",
       "      <td>1.000000</td>\n",
       "      <td>0.414838</td>\n",
       "      <td>0.159651</td>\n",
       "    </tr>\n",
       "    <tr>\n",
       "      <th>Parch</th>\n",
       "      <td>-0.189119</td>\n",
       "      <td>0.414838</td>\n",
       "      <td>1.000000</td>\n",
       "      <td>0.216225</td>\n",
       "    </tr>\n",
       "    <tr>\n",
       "      <th>Fare</th>\n",
       "      <td>0.096067</td>\n",
       "      <td>0.159651</td>\n",
       "      <td>0.216225</td>\n",
       "      <td>1.000000</td>\n",
       "    </tr>\n",
       "  </tbody>\n",
       "</table>\n",
       "</div>"
      ],
      "text/plain": [
       "            Age     SibSp     Parch      Fare\n",
       "Age    1.000000 -0.308247 -0.189119  0.096067\n",
       "SibSp -0.308247  1.000000  0.414838  0.159651\n",
       "Parch -0.189119  0.414838  1.000000  0.216225\n",
       "Fare   0.096067  0.159651  0.216225  1.000000"
      ]
     },
     "execution_count": 39,
     "metadata": {},
     "output_type": "execute_result"
    }
   ],
   "source": [
    "dt[['Age','SibSp','Parch','Fare']].corr()"
   ]
  },
  {
   "cell_type": "code",
   "execution_count": 40,
   "metadata": {},
   "outputs": [
    {
     "data": {
      "image/png": "[encoded data removed]",
      "text/plain": [
       "<Figure size 432x288 with 2 Axes>"
      ]
     },
     "metadata": {
      "needs_background": "light"
     },
     "output_type": "display_data"
    }
   ],
   "source": [
    "#Just because I can\n",
    "sns.heatmap(dt[['Age','SibSp','Parch','Fare']].corr())\n",
    "plt.show()"
   ]
  },
  {
   "cell_type": "code",
   "execution_count": 7,
   "metadata": {},
   "outputs": [
    {
     "data": {
      "text/html": [
       "<style  type=\"text/css\" >\n",
       "    #T_1a05f014_66cb_11e9_ad04_acde48001122row0_col0 {\n",
       "            color:  black;\n",
       "            background-color:  #b40426;\n",
       "            color:  #f1f1f1;\n",
       "        }    #T_1a05f014_66cb_11e9_ad04_acde48001122row0_col1 {\n",
       "            color:  black;\n",
       "            background-color:  #3b4cc0;\n",
       "            color:  #f1f1f1;\n",
       "        }    #T_1a05f014_66cb_11e9_ad04_acde48001122row0_col2 {\n",
       "            color:  black;\n",
       "            background-color:  #3b4cc0;\n",
       "            color:  #f1f1f1;\n",
       "        }    #T_1a05f014_66cb_11e9_ad04_acde48001122row0_col3 {\n",
       "            color:  black;\n",
       "            background-color:  #3b4cc0;\n",
       "            color:  #f1f1f1;\n",
       "        }    #T_1a05f014_66cb_11e9_ad04_acde48001122row1_col0 {\n",
       "            color:  black;\n",
       "            background-color:  #3b4cc0;\n",
       "            color:  #f1f1f1;\n",
       "        }    #T_1a05f014_66cb_11e9_ad04_acde48001122row1_col1 {\n",
       "            color:  black;\n",
       "            background-color:  #b40426;\n",
       "            color:  #f1f1f1;\n",
       "        }    #T_1a05f014_66cb_11e9_ad04_acde48001122row1_col2 {\n",
       "            color:  black;\n",
       "            background-color:  #dfdbd9;\n",
       "            color:  #000000;\n",
       "        }    #T_1a05f014_66cb_11e9_ad04_acde48001122row1_col3 {\n",
       "            color:  black;\n",
       "            background-color:  #506bda;\n",
       "            color:  #000000;\n",
       "        }    #T_1a05f014_66cb_11e9_ad04_acde48001122row2_col0 {\n",
       "            color:  black;\n",
       "            background-color:  #5673e0;\n",
       "            color:  #000000;\n",
       "        }    #T_1a05f014_66cb_11e9_ad04_acde48001122row2_col1 {\n",
       "            color:  black;\n",
       "            background-color:  #ead5c9;\n",
       "            color:  #000000;\n",
       "        }    #T_1a05f014_66cb_11e9_ad04_acde48001122row2_col2 {\n",
       "            color:  black;\n",
       "            background-color:  #b40426;\n",
       "            color:  #f1f1f1;\n",
       "        }    #T_1a05f014_66cb_11e9_ad04_acde48001122row2_col3 {\n",
       "            color:  black;\n",
       "            background-color:  #6485ec;\n",
       "            color:  #000000;\n",
       "        }    #T_1a05f014_66cb_11e9_ad04_acde48001122row3_col0 {\n",
       "            color:  black;\n",
       "            background-color:  #a2c1ff;\n",
       "            color:  #000000;\n",
       "        }    #T_1a05f014_66cb_11e9_ad04_acde48001122row3_col1 {\n",
       "            color:  black;\n",
       "            background-color:  #b2ccfb;\n",
       "            color:  #000000;\n",
       "        }    #T_1a05f014_66cb_11e9_ad04_acde48001122row3_col2 {\n",
       "            color:  black;\n",
       "            background-color:  #adc9fd;\n",
       "            color:  #000000;\n",
       "        }    #T_1a05f014_66cb_11e9_ad04_acde48001122row3_col3 {\n",
       "            color:  black;\n",
       "            background-color:  #b40426;\n",
       "            color:  #f1f1f1;\n",
       "        }</style><table id=\"T_1a05f014_66cb_11e9_ad04_acde48001122\" ><thead>    <tr>        <th class=\"blank level0\" ></th>        <th class=\"col_heading level0 col0\" >Age</th>        <th class=\"col_heading level0 col1\" >SibSp</th>        <th class=\"col_heading level0 col2\" >Parch</th>        <th class=\"col_heading level0 col3\" >Fare</th>    </tr></thead><tbody>\n",
       "                <tr>\n",
       "                        <th id=\"T_1a05f014_66cb_11e9_ad04_acde48001122level0_row0\" class=\"row_heading level0 row0\" >Age</th>\n",
       "                        <td id=\"T_1a05f014_66cb_11e9_ad04_acde48001122row0_col0\" class=\"data row0 col0\" >1</td>\n",
       "                        <td id=\"T_1a05f014_66cb_11e9_ad04_acde48001122row0_col1\" class=\"data row0 col1\" >-0.31</td>\n",
       "                        <td id=\"T_1a05f014_66cb_11e9_ad04_acde48001122row0_col2\" class=\"data row0 col2\" >-0.19</td>\n",
       "                        <td id=\"T_1a05f014_66cb_11e9_ad04_acde48001122row0_col3\" class=\"data row0 col3\" >0.096</td>\n",
       "            </tr>\n",
       "            <tr>\n",
       "                        <th id=\"T_1a05f014_66cb_11e9_ad04_acde48001122level0_row1\" class=\"row_heading level0 row1\" >SibSp</th>\n",
       "                        <td id=\"T_1a05f014_66cb_11e9_ad04_acde48001122row1_col0\" class=\"data row1 col0\" >-0.31</td>\n",
       "                        <td id=\"T_1a05f014_66cb_11e9_ad04_acde48001122row1_col1\" class=\"data row1 col1\" >1</td>\n",
       "                        <td id=\"T_1a05f014_66cb_11e9_ad04_acde48001122row1_col2\" class=\"data row1 col2\" >0.41</td>\n",
       "                        <td id=\"T_1a05f014_66cb_11e9_ad04_acde48001122row1_col3\" class=\"data row1 col3\" >0.16</td>\n",
       "            </tr>\n",
       "            <tr>\n",
       "                        <th id=\"T_1a05f014_66cb_11e9_ad04_acde48001122level0_row2\" class=\"row_heading level0 row2\" >Parch</th>\n",
       "                        <td id=\"T_1a05f014_66cb_11e9_ad04_acde48001122row2_col0\" class=\"data row2 col0\" >-0.19</td>\n",
       "                        <td id=\"T_1a05f014_66cb_11e9_ad04_acde48001122row2_col1\" class=\"data row2 col1\" >0.41</td>\n",
       "                        <td id=\"T_1a05f014_66cb_11e9_ad04_acde48001122row2_col2\" class=\"data row2 col2\" >1</td>\n",
       "                        <td id=\"T_1a05f014_66cb_11e9_ad04_acde48001122row2_col3\" class=\"data row2 col3\" >0.22</td>\n",
       "            </tr>\n",
       "            <tr>\n",
       "                        <th id=\"T_1a05f014_66cb_11e9_ad04_acde48001122level0_row3\" class=\"row_heading level0 row3\" >Fare</th>\n",
       "                        <td id=\"T_1a05f014_66cb_11e9_ad04_acde48001122row3_col0\" class=\"data row3 col0\" >0.096</td>\n",
       "                        <td id=\"T_1a05f014_66cb_11e9_ad04_acde48001122row3_col1\" class=\"data row3 col1\" >0.16</td>\n",
       "                        <td id=\"T_1a05f014_66cb_11e9_ad04_acde48001122row3_col2\" class=\"data row3 col2\" >0.22</td>\n",
       "                        <td id=\"T_1a05f014_66cb_11e9_ad04_acde48001122row3_col3\" class=\"data row3 col3\" >1</td>\n",
       "            </tr>\n",
       "    </tbody></table>"
      ],
      "text/plain": [
       "<pandas.io.formats.style.Styler at 0x12ba06668>"
      ]
     },
     "execution_count": 7,
     "metadata": {},
     "output_type": "execute_result"
    }
   ],
   "source": [
    "#More sexy heatmap\n",
    "dt[['Age','SibSp','Parch','Fare']].corr().style.set_properties(**{'color':'black'}).background_gradient(cmap='coolwarm').set_precision(2)"
   ]
  },
  {
   "cell_type": "markdown",
   "metadata": {},
   "source": [
    "## Гистограммы"
   ]
  },
  {
   "cell_type": "markdown",
   "metadata": {},
   "source": [
    "\n",
    "В статистике гистограммы используют для вызуального представления функции плотности вероятности случайной величины, построенной по выборке.\n",
    "\n",
    "Вполне логично было бы построить их только для переменных, которые были использованы для построения матрицы корреляции. Но это не очень интересно, поэтому для для других переменных будет построена столбчатая диаграмма"
   ]
  },
  {
   "cell_type": "code",
   "execution_count": 51,
   "metadata": {},
   "outputs": [],
   "source": [
    "#Будет одна красивая функция, которая будет рисовать все графики вместо кучи однотипного кода\n",
    "#Но т.к. не все грфики гистограммы, а хочется, чтобы было красиво\n",
    "#Для этого будет параметр graph_type, который будет говорить о том, какой тип графика строить\n",
    "#В целом, если добавить ещё значений кроме \"hist\" и \"bar\", \n",
    "#то в функцию можно просто добавить ещё один блок для новых видов графиков\n",
    "def super_plot_with_subplts(data, columns_list, nrows, ncols, graph_types):\n",
    "    fig, ax = plt.subplots(nrows = nrows, ncols =ncols, figsize =(20,20))\n",
    "    for i in range(0, nrows):\n",
    "        for j in range(0, ncols):\n",
    "            col_name = columns_list.pop(0)\n",
    "            graph_type = graph_types.pop(0)\n",
    "            if graph_type == 'hist':\n",
    "                ax[i,j].hist(data[col_name])\n",
    "            if graph_type == 'bar':\n",
    "                groups = data.groupby(col_name)[col_name].count().to_dict()\n",
    "                ax[i,j].bar(x = list(groups.keys()), height = list(groups.values()))\n",
    "            ax[i,j].set_title(col_name)\n",
    "    plt.show()"
   ]
  },
  {
   "cell_type": "code",
   "execution_count": 52,
   "metadata": {},
   "outputs": [
    {
     "data": {
      "image/png": "[encoded data removed]",
      "text/plain": [
       "<Figure size 1440x1440 with 8 Axes>"
      ]
     },
     "metadata": {
      "needs_background": "light"
     },
     "output_type": "display_data"
    }
   ],
   "source": [
    "col_names = ['Age','Survived', 'Pclass','Sex','SibSp','Parch','Fare','Embarked']\n",
    "graph_types = ['hist', 'bar', 'bar', 'bar', 'hist', 'hist', 'hist', 'bar']\n",
    "super_plot_with_subplts(data=dt,columns_list=col_names,nrows=2,ncols=4, graph_types=graph_types)"
   ]
  },
  {
   "cell_type": "markdown",
   "metadata": {},
   "source": [
    "## Посчитать самое популярное женское имя"
   ]
  },
  {
   "cell_type": "markdown",
   "metadata": {},
   "source": [
    "\n",
    "Вроде тут всё просто: взять тех, кого женский пол(неожиданно, да?) и дальше достать оттуда имя и просто посчитать для каждого сколько раз встречается, и вывести самое популярное.\n",
    "\n",
    "Казалось бы, что тут сложного...\n",
    "\n",
    "Вообще, дамы делятся на 2 вида: те, кто miss(незамужем) и те, кто mrs(замужем).\n",
    "\n",
    "Для незамужних структура такая: Фамилия, Miss. Имя. Тут все просто, берем просто все, что после Miss и до первого пробела.\n",
    "С замужними все сложнее(удивительно, не правда ли?): Фамалия, Mrs. имя мужа(не всегда) (имя и девичья фамилия). Тут надо брать между открывающеся скобочкой и пробельчиком.\n",
    "\n",
    "Возможны случаи двойного имени(Lily May) или более сложного, с таким можно борорться 2 способами: взять все что между открывающейся скобочкой и последним побелом или забить...\n",
    "\n",
    "Но тут не идет крутой data science, поэтому будет взято первое имя. Плюс, девушек с двойным именем можно называть только первым именем, так что такое допущение при подсчете законно(но это не точно)"
   ]
  },
  {
   "cell_type": "code",
   "execution_count": 68,
   "metadata": {},
   "outputs": [
    {
     "data": {
      "text/plain": [
       "1     Cumings, Mrs. John Bradley (Florence Briggs Th...\n",
       "2                                Heikkinen, Miss. Laina\n",
       "3          Futrelle, Mrs. Jacques Heath (Lily May Peel)\n",
       "8     Johnson, Mrs. Oscar W (Elisabeth Vilhelmina Berg)\n",
       "9                   Nasser, Mrs. Nicholas (Adele Achem)\n",
       "10                      Sandstrom, Miss. Marguerite Rut\n",
       "11                             Bonnell, Miss. Elizabeth\n",
       "14                 Vestrom, Miss. Hulda Amanda Adolfina\n",
       "15                     Hewlett, Mrs. (Mary D Kingcome) \n",
       "18    Vander Planke, Mrs. Julius (Emelia Maria Vande...\n",
       "19                              Masselmani, Mrs. Fatima\n",
       "22                          McGowan, Miss. Anna \"Annie\"\n",
       "24                        Palsson, Miss. Torborg Danira\n",
       "25    Asplund, Mrs. Carl Oscar (Selma Augusta Emilia...\n",
       "28                        O'Dwyer, Miss. Ellen \"Nellie\"\n",
       "Name: Name, dtype: object"
      ]
     },
     "execution_count": 68,
     "metadata": {},
     "output_type": "execute_result"
    }
   ],
   "source": [
    "dt[dt['Sex'] == 'female']['Name'].head(15)"
   ]
  },
  {
   "cell_type": "code",
   "execution_count": 69,
   "metadata": {},
   "outputs": [],
   "source": [
    "names = dt[dt['Sex'] == 'female']['Name']"
   ]
  },
  {
   "cell_type": "code",
   "execution_count": 243,
   "metadata": {},
   "outputs": [
    {
     "name": "stdout",
     "output_type": "stream",
     "text": [
      "          Name  count\n",
      "13        Anna     15\n",
      "144       Mary     14\n",
      "51   Elizabeth     11\n",
      "131   Margaret     10\n",
      "6        Alice      7\n"
     ]
    }
   ],
   "source": [
    "only_names = names.apply(lambda x: x[x.index('. ')+2:].split(\" \")[0] if 'Miss' in x \n",
    "                            else( x[x.index(' (')+1:].split(\" \")[0]  if 'Mrs.' in x and '(' in x \n",
    "                                 else x.split(\" \")[2]))\n",
    "#Как оказалось, там не всегда есть скобочка или имя мужа...\n",
    "#Обрезание лишних скобочек\n",
    "only_names = only_names.apply(lambda x: x.rstrip(\")\").lstrip(\"(\"))\n",
    "#То, что написано ниже должно вызывать у тех, кто нормально умеет в питон боль и страдания. \n",
    "#И вообще, думаю, что так писать не стоит\n",
    "only_names = pd.DataFrame(only_names)\n",
    "only_names = pd.DataFrame({'count':only_names.groupby('Name')['Name'].count()}).reset_index()\n",
    "print(only_names.sort_values(by = 'count', ascending = False).head(5))"
   ]
  },
  {
   "cell_type": "markdown",
   "metadata": {},
   "source": [
    "## Расчет среднего и медианного возраста"
   ]
  },
  {
   "cell_type": "markdown",
   "metadata": {},
   "source": [
    "\n",
    "Не самое прикольное задание, но у меня просто написано посчитать это, а кретивить мне лень.\n",
    "\n",
    "Но можно наложить супер хитрых фильтров, для выделения супер хитрой группы и в ней посчитать это все.\n",
    "Например, средний возраст несовершеннлолетних(те, кому меньше 18 лет)"
   ]
  },
  {
   "cell_type": "code",
   "execution_count": 188,
   "metadata": {},
   "outputs": [
    {
     "name": "stdout",
     "output_type": "stream",
     "text": [
      "Средний возраст = 29.69911764705882\n",
      "Медианный возраст = 28.0\n"
     ]
    }
   ],
   "source": [
    "print('Средний возраст = {0}'.format(dt['Age'].mean()))\n",
    "print('Медианный возраст = {0}'.format(dt['Age'].median()))"
   ]
  },
  {
   "cell_type": "code",
   "execution_count": 244,
   "metadata": {},
   "outputs": [
    {
     "name": "stdout",
     "output_type": "stream",
     "text": [
      "Средний возраст несовершеннолетних детей = 10.71705035971223\n",
      "Медианный возраст несовершеннолетних детей  = 13.0\n"
     ]
    }
   ],
   "source": [
    "print('Средний возраст несовершеннолетних детей = {0}'.format(dt[dt['Age'] <= 18]['Age'].mean()))\n",
    "print('Медианный возраст несовершеннолетних детей  = {0}'.format(dt[dt['Age'] <= 18]['Age'].median()))"
   ]
  },
  {
   "cell_type": "markdown",
   "metadata": {},
   "source": [
    "## Анализ пассажиров с разбиением по городу посадки."
   ]
  },
  {
   "cell_type": "markdown",
   "metadata": {},
   "source": [
    "На просто наложить какой-нибудь интересный фильтр на пассажиров, разбить их по городам и посчитать.\n",
    "Например, можно посчитать кол-во незамужних дам из первого класса в каждом городе."
   ]
  },
  {
   "cell_type": "code",
   "execution_count": 238,
   "metadata": {},
   "outputs": [
    {
     "data": {
      "text/html": [
       "<div>\n",
       "<style scoped>\n",
       "    .dataframe tbody tr th:only-of-type {\n",
       "        vertical-align: middle;\n",
       "    }\n",
       "\n",
       "    .dataframe tbody tr th {\n",
       "        vertical-align: top;\n",
       "    }\n",
       "\n",
       "    .dataframe thead th {\n",
       "        text-align: right;\n",
       "    }\n",
       "</style>\n",
       "<table border=\"1\" class=\"dataframe\">\n",
       "  <thead>\n",
       "    <tr style=\"text-align: right;\">\n",
       "      <th></th>\n",
       "      <th>Embarked</th>\n",
       "      <th>Pclass</th>\n",
       "      <th>PassengerId</th>\n",
       "    </tr>\n",
       "  </thead>\n",
       "  <tbody>\n",
       "    <tr>\n",
       "      <th>0</th>\n",
       "      <td>C</td>\n",
       "      <td>1.0</td>\n",
       "      <td>21</td>\n",
       "    </tr>\n",
       "    <tr>\n",
       "      <th>1</th>\n",
       "      <td>C</td>\n",
       "      <td>2.0</td>\n",
       "      <td>3</td>\n",
       "    </tr>\n",
       "    <tr>\n",
       "      <th>2</th>\n",
       "      <td>C</td>\n",
       "      <td>3.0</td>\n",
       "      <td>14</td>\n",
       "    </tr>\n",
       "    <tr>\n",
       "      <th>3</th>\n",
       "      <td>Q</td>\n",
       "      <td>1.0</td>\n",
       "      <td>1</td>\n",
       "    </tr>\n",
       "    <tr>\n",
       "      <th>4</th>\n",
       "      <td>Q</td>\n",
       "      <td>2.0</td>\n",
       "      <td>2</td>\n",
       "    </tr>\n",
       "    <tr>\n",
       "      <th>5</th>\n",
       "      <td>Q</td>\n",
       "      <td>3.0</td>\n",
       "      <td>30</td>\n",
       "    </tr>\n",
       "    <tr>\n",
       "      <th>6</th>\n",
       "      <td>S</td>\n",
       "      <td>1.0</td>\n",
       "      <td>23</td>\n",
       "    </tr>\n",
       "    <tr>\n",
       "      <th>7</th>\n",
       "      <td>S</td>\n",
       "      <td>2.0</td>\n",
       "      <td>29</td>\n",
       "    </tr>\n",
       "    <tr>\n",
       "      <th>8</th>\n",
       "      <td>S</td>\n",
       "      <td>3.0</td>\n",
       "      <td>58</td>\n",
       "    </tr>\n",
       "  </tbody>\n",
       "</table>\n",
       "</div>"
      ],
      "text/plain": [
       "  Embarked  Pclass  PassengerId\n",
       "0        C     1.0           21\n",
       "1        C     2.0            3\n",
       "2        C     3.0           14\n",
       "3        Q     1.0            1\n",
       "4        Q     2.0            2\n",
       "5        Q     3.0           30\n",
       "6        S     1.0           23\n",
       "7        S     2.0           29\n",
       "8        S     3.0           58"
      ]
     },
     "execution_count": 238,
     "metadata": {},
     "output_type": "execute_result"
    }
   ],
   "source": [
    "filter = dt[dt['Sex'] == 'female']['Name'].apply(lambda x: True if 'Miss' in x else False)\n",
    "dt.where(filter).groupby(['Embarked','Pclass'])['PassengerId'].count().reset_index()\n",
    "#Таким образом если можно узнать сколько бы людей выжило, если бы они не зашли на борт или вышли в порту"
   ]
  }
 ],
 "metadata": {
  "kernelspec": {
   "display_name": "Python 3",
   "language": "python",
   "name": "python3"
  },
  "language_info": {
   "codemirror_mode": {
    "name": "ipython",
    "version": 3
   },
   "file_extension": ".py",
   "mimetype": "text/x-python",
   "name": "python",
   "nbconvert_exporter": "python",
   "pygments_lexer": "ipython3",
   "version": "3.7.3"
  }
 },
 "nbformat": 4,
 "nbformat_minor": 2
}
